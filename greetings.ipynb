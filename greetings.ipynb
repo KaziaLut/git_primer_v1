{
 "cells": [
  {
   "cell_type": "code",
   "execution_count": 1,
   "id": "ca151bac",
   "metadata": {},
   "outputs": [
    {
     "name": "stdout",
     "output_type": "stream",
     "text": [
      "What is your name? Kazia\n",
      "Goodbye, Kazia!\n"
     ]
    }
   ],
   "source": [
    from datetime import datetime

    name = input("What is your name? ")
    hour = datetime.now().time().hour
    greeting = "Good morning" if 4 <= hour < 12 else "Good afternoon" if 12 <= hour < 16 else "Good night"
    print(f"{greeting}, {name}!")
   ]
  },
  {
   "cell_type": "code",
   "execution_count": null,
   "id": "06a4d2b5",
   "metadata": {},
   "outputs": [],
   "source": []
  }
 ],
 "metadata": {
  "kernelspec": {
   "display_name": "Python 3 (ipykernel)",
   "language": "python",
   "name": "python3"
  },
  "language_info": {
   "codemirror_mode": {
    "name": "ipython",
    "version": 3
   },
   "file_extension": ".py",
   "mimetype": "text/x-python",
   "name": "python",
   "nbconvert_exporter": "python",
   "pygments_lexer": "ipython3",
   "version": "3.9.13"
  }
 },
 "nbformat": 4,
 "nbformat_minor": 5
}
